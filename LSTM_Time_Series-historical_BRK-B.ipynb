{
 "cells": [
  {
   "cell_type": "code",
   "execution_count": 1,
   "metadata": {},
   "outputs": [],
   "source": [
    "# Using the historical price of a stock as a predictor of its own prices"
   ]
  },
  {
   "cell_type": "code",
   "execution_count": 2,
   "metadata": {},
   "outputs": [],
   "source": [
    "# Data Preparation"
   ]
  },
  {
   "cell_type": "code",
   "execution_count": 22,
   "metadata": {},
   "outputs": [],
   "source": [
    "# Imports\n",
    "\n",
    "import yfinance as yf\n",
    "import numpy as np\n",
    "import pandas as pd\n",
    "import hvplot.pandas"
   ]
  },
  {
   "cell_type": "code",
   "execution_count": 23,
   "metadata": {},
   "outputs": [
    {
     "name": "stdout",
     "output_type": "stream",
     "text": [
      "[*********************100%***********************]  1 of 1 completed\n"
     ]
    },
    {
     "data": {
      "text/html": [
       "<div>\n",
       "<style scoped>\n",
       "    .dataframe tbody tr th:only-of-type {\n",
       "        vertical-align: middle;\n",
       "    }\n",
       "\n",
       "    .dataframe tbody tr th {\n",
       "        vertical-align: top;\n",
       "    }\n",
       "\n",
       "    .dataframe thead th {\n",
       "        text-align: right;\n",
       "    }\n",
       "</style>\n",
       "<table border=\"1\" class=\"dataframe\">\n",
       "  <thead>\n",
       "    <tr style=\"text-align: right;\">\n",
       "      <th></th>\n",
       "      <th>BRK-B</th>\n",
       "    </tr>\n",
       "    <tr>\n",
       "      <th>Date</th>\n",
       "      <th></th>\n",
       "    </tr>\n",
       "  </thead>\n",
       "  <tbody>\n",
       "    <tr>\n",
       "      <th>2019-01-02</th>\n",
       "      <td>202.800003</td>\n",
       "    </tr>\n",
       "    <tr>\n",
       "      <th>2019-01-03</th>\n",
       "      <td>191.660004</td>\n",
       "    </tr>\n",
       "    <tr>\n",
       "      <th>2019-01-04</th>\n",
       "      <td>195.199997</td>\n",
       "    </tr>\n",
       "    <tr>\n",
       "      <th>2019-01-07</th>\n",
       "      <td>196.910004</td>\n",
       "    </tr>\n",
       "    <tr>\n",
       "      <th>2019-01-08</th>\n",
       "      <td>196.309998</td>\n",
       "    </tr>\n",
       "  </tbody>\n",
       "</table>\n",
       "</div>"
      ],
      "text/plain": [
       "                 BRK-B\n",
       "Date                  \n",
       "2019-01-02  202.800003\n",
       "2019-01-03  191.660004\n",
       "2019-01-04  195.199997\n",
       "2019-01-07  196.910004\n",
       "2019-01-08  196.309998"
      ]
     },
     "execution_count": 23,
     "metadata": {},
     "output_type": "execute_result"
    }
   ],
   "source": [
    "# Load price data for BRK-B using yfinance\n",
    "df = yf.download(\"BRK-B\", start='2019-01-01', end='2021-05-31')\n",
    "df = df.drop(columns = ['Open', 'High', 'Low', 'Adj Close', 'Volume']).rename(columns = {'Close':'BRK-B'})\n",
    "df.head()"
   ]
  },
  {
   "cell_type": "code",
   "execution_count": 24,
   "metadata": {},
   "outputs": [],
   "source": [
    "# Below function takes column number for the features (X) and target (y)\n",
    "# It accumulates the data with a rolling window of X(t-n) to predict Xt\n",
    "# Finally, it returns a numpy array of X and y\n",
    "\n",
    "def window_data(df, window, feature_col_number, target_col_number):\n",
    "    X = []\n",
    "    y = []\n",
    "    for i in range(len(df) - window):\n",
    "        features = df.iloc[i : (i + window), feature_col_number]\n",
    "        target = df.iloc[(i + window), target_col_number]\n",
    "        X.append(features)\n",
    "        y.append(target)\n",
    "    return np.array(X), np.array(y).reshape(-1, 1)"
   ]
  },
  {
   "cell_type": "code",
   "execution_count": 25,
   "metadata": {},
   "outputs": [],
   "source": [
    "# Predict Closing Prices using a 10 day window of previous closing prices\n",
    "\n",
    "window_size = 30\n",
    "\n",
    "# Column index 0 is the 'index' column\n",
    "# Column index 1 is the 'stock' column\n",
    "feature_column = 0\n",
    "target_column = 0\n",
    "X, y = window_data(df, window_size, feature_column, target_column)"
   ]
  },
  {
   "cell_type": "code",
   "execution_count": 26,
   "metadata": {},
   "outputs": [],
   "source": [
    "# 70% of data will be for training and 30% for testing\n",
    "\n",
    "from sklearn.model_selection import train_test_split\n",
    "split = int(0.7 * len(X))\n",
    "X_train = X[: split]\n",
    "X_test = X[split:]\n",
    "y_train = y[: split]\n",
    "y_test = y[split:]"
   ]
  },
  {
   "cell_type": "code",
   "execution_count": 27,
   "metadata": {},
   "outputs": [],
   "source": [
    "# Scaling data between 0 and 1\n",
    "\n",
    "from sklearn.preprocessing import MinMaxScaler\n",
    "scaler = MinMaxScaler()\n",
    "scaler.fit(X)\n",
    "X_train = scaler.transform(X_train)\n",
    "X_test = scaler.transform(X_test)\n",
    "scaler.fit(y)\n",
    "y_train = scaler.transform(y_train)\n",
    "y_test = scaler.transform(y_test)"
   ]
  },
  {
   "cell_type": "code",
   "execution_count": 28,
   "metadata": {},
   "outputs": [],
   "source": [
    "# Reshape the features for the model\n",
    "\n",
    "X_train = X_train.reshape((X_train.shape[0], X_train.shape[1], 1))\n",
    "X_test = X_test.reshape((X_test.shape[0], X_test.shape[1], 1))"
   ]
  },
  {
   "cell_type": "code",
   "execution_count": 29,
   "metadata": {},
   "outputs": [],
   "source": [
    "## Building/training LSTM RNN"
   ]
  },
  {
   "cell_type": "code",
   "execution_count": 30,
   "metadata": {},
   "outputs": [],
   "source": [
    "# Imports from tensorflow\n",
    "\n",
    "from tensorflow.keras.models import Sequential\n",
    "from tensorflow.keras.layers import LSTM, Dense, Dropout"
   ]
  },
  {
   "cell_type": "code",
   "execution_count": 31,
   "metadata": {},
   "outputs": [],
   "source": [
    "# LSTM Model\n",
    "# How many layers are we doing? Check before doing return sequences. Set to True if adding more LSTM layers but not for final layer\n",
    "# Input shape: number of time steps and number of indicators\n",
    "# Dropouts to prevent overfitting\n",
    "# Define the LSTM RNN model\n",
    "\n",
    "model = Sequential()\n",
    "\n",
    "number_units = 30\n",
    "dropout_fraction = 0.2\n",
    "\n",
    "# Layer 1\n",
    "\n",
    "model.add(LSTM(\n",
    "    units=number_units,\n",
    "    return_sequences=True,\n",
    "    input_shape=(X_train.shape[1], 1))\n",
    "    )\n",
    "model.add(Dropout(dropout_fraction))\n",
    "# Layer 2\n",
    "\n",
    "model.add(LSTM(units=number_units, return_sequences=True))\n",
    "model.add(Dropout(dropout_fraction))\n",
    "# Layer 3\n",
    "\n",
    "model.add(LSTM(units=number_units))\n",
    "model.add(Dropout(dropout_fraction))\n",
    "# Output layer\n",
    "\n",
    "model.add(Dense(1))"
   ]
  },
  {
   "cell_type": "code",
   "execution_count": 32,
   "metadata": {},
   "outputs": [],
   "source": [
    "# Compile the model\n",
    "\n",
    "model.compile(optimizer=\"adam\", loss=\"mean_squared_error\")"
   ]
  },
  {
   "cell_type": "code",
   "execution_count": 33,
   "metadata": {},
   "outputs": [
    {
     "name": "stdout",
     "output_type": "stream",
     "text": [
      "Model: \"sequential_1\"\n",
      "_________________________________________________________________\n",
      "Layer (type)                 Output Shape              Param #   \n",
      "=================================================================\n",
      "lstm_3 (LSTM)                (None, 30, 30)            3840      \n",
      "_________________________________________________________________\n",
      "dropout_3 (Dropout)          (None, 30, 30)            0         \n",
      "_________________________________________________________________\n",
      "lstm_4 (LSTM)                (None, 30, 30)            7320      \n",
      "_________________________________________________________________\n",
      "dropout_4 (Dropout)          (None, 30, 30)            0         \n",
      "_________________________________________________________________\n",
      "lstm_5 (LSTM)                (None, 30)                7320      \n",
      "_________________________________________________________________\n",
      "dropout_5 (Dropout)          (None, 30)                0         \n",
      "_________________________________________________________________\n",
      "dense_1 (Dense)              (None, 1)                 31        \n",
      "=================================================================\n",
      "Total params: 18,511\n",
      "Trainable params: 18,511\n",
      "Non-trainable params: 0\n",
      "_________________________________________________________________\n"
     ]
    }
   ],
   "source": [
    "# Summarize the model\n",
    "\n",
    "model.summary()"
   ]
  },
  {
   "cell_type": "code",
   "execution_count": 34,
   "metadata": {},
   "outputs": [
    {
     "name": "stdout",
     "output_type": "stream",
     "text": [
      "Epoch 1/50\n",
      "403/403 [==============================] - 11s 17ms/step - loss: 0.0087\n",
      "Epoch 2/50\n",
      "403/403 [==============================] - 7s 16ms/step - loss: 0.0035\n",
      "Epoch 3/50\n",
      "403/403 [==============================] - 7s 16ms/step - loss: 0.0039\n",
      "Epoch 4/50\n",
      "403/403 [==============================] - 6s 16ms/step - loss: 0.0049\n",
      "Epoch 5/50\n",
      "403/403 [==============================] - 7s 16ms/step - loss: 0.0040\n",
      "Epoch 6/50\n",
      "403/403 [==============================] - 7s 16ms/step - loss: 0.0036\n",
      "Epoch 7/50\n",
      "403/403 [==============================] - 7s 16ms/step - loss: 0.0035\n",
      "Epoch 8/50\n",
      "403/403 [==============================] - 7s 16ms/step - loss: 0.0031\n",
      "Epoch 9/50\n",
      "403/403 [==============================] - 7s 16ms/step - loss: 0.0029\n",
      "Epoch 10/50\n",
      "403/403 [==============================] - 7s 16ms/step - loss: 0.0026: 0s \n",
      "Epoch 11/50\n",
      "403/403 [==============================] - 7s 16ms/step - loss: 0.0023\n",
      "Epoch 12/50\n",
      "403/403 [==============================] - 6s 16ms/step - loss: 0.0022\n",
      "Epoch 13/50\n",
      "403/403 [==============================] - 7s 16ms/step - loss: 0.0020\n",
      "Epoch 14/50\n",
      "403/403 [==============================] - 7s 16ms/step - loss: 0.0019\n",
      "Epoch 15/50\n",
      "403/403 [==============================] - 7s 16ms/step - loss: 0.0018\n",
      "Epoch 16/50\n",
      "403/403 [==============================] - 7s 16ms/step - loss: 0.0016\n",
      "Epoch 17/50\n",
      "403/403 [==============================] - 7s 16ms/step - loss: 0.0015\n",
      "Epoch 18/50\n",
      "403/403 [==============================] - 7s 16ms/step - loss: 0.0012\n",
      "Epoch 19/50\n",
      "403/403 [==============================] - 7s 16ms/step - loss: 0.0012: 0s - loss: 0.00\n",
      "Epoch 20/50\n",
      "403/403 [==============================] - 7s 16ms/step - loss: 0.0013\n",
      "Epoch 21/50\n",
      "403/403 [==============================] - 7s 16ms/step - loss: 0.0017\n",
      "Epoch 22/50\n",
      "403/403 [==============================] - 7s 16ms/step - loss: 0.0012\n",
      "Epoch 23/50\n",
      "403/403 [==============================] - 7s 16ms/step - loss: 0.0012\n",
      "Epoch 24/50\n",
      "403/403 [==============================] - 7s 16ms/step - loss: 0.0011\n",
      "Epoch 25/50\n",
      "403/403 [==============================] - 7s 17ms/step - loss: 0.0011\n",
      "Epoch 26/50\n",
      "403/403 [==============================] - 7s 17ms/step - loss: 0.0010\n",
      "Epoch 27/50\n",
      "403/403 [==============================] - 7s 17ms/step - loss: 9.0350e-04\n",
      "Epoch 28/50\n",
      "403/403 [==============================] - 7s 17ms/step - loss: 0.0011\n",
      "Epoch 29/50\n",
      "403/403 [==============================] - 7s 17ms/step - loss: 0.0012\n",
      "Epoch 30/50\n",
      "403/403 [==============================] - 7s 16ms/step - loss: 0.0011\n",
      "Epoch 31/50\n",
      "403/403 [==============================] - 7s 16ms/step - loss: 8.2606e-04\n",
      "Epoch 32/50\n",
      "403/403 [==============================] - 7s 16ms/step - loss: 8.0527e-04\n",
      "Epoch 33/50\n",
      "403/403 [==============================] - 7s 16ms/step - loss: 8.6376e-04\n",
      "Epoch 34/50\n",
      "403/403 [==============================] - 7s 16ms/step - loss: 0.0010\n",
      "Epoch 35/50\n",
      "403/403 [==============================] - 7s 17ms/step - loss: 8.4266e-04\n",
      "Epoch 36/50\n",
      "403/403 [==============================] - 7s 16ms/step - loss: 7.5688e-04\n",
      "Epoch 37/50\n",
      "403/403 [==============================] - 7s 16ms/step - loss: 6.7465e-04\n",
      "Epoch 38/50\n",
      "403/403 [==============================] - 7s 16ms/step - loss: 7.2412e-04\n",
      "Epoch 39/50\n",
      "403/403 [==============================] - 7s 16ms/step - loss: 9.1024e-04\n",
      "Epoch 40/50\n",
      "403/403 [==============================] - 7s 17ms/step - loss: 9.0606e-04\n",
      "Epoch 41/50\n",
      "403/403 [==============================] - 7s 18ms/step - loss: 7.4925e-04\n",
      "Epoch 42/50\n",
      "403/403 [==============================] - 7s 17ms/step - loss: 5.9229e-04\n",
      "Epoch 43/50\n",
      "403/403 [==============================] - 7s 16ms/step - loss: 6.9520e-04\n",
      "Epoch 44/50\n",
      "403/403 [==============================] - 7s 17ms/step - loss: 5.8383e-04\n",
      "Epoch 45/50\n",
      "403/403 [==============================] - 7s 16ms/step - loss: 6.7076e-04\n",
      "Epoch 46/50\n",
      "403/403 [==============================] - 7s 16ms/step - loss: 8.7635e-04\n",
      "Epoch 47/50\n",
      "403/403 [==============================] - 7s 16ms/step - loss: 6.4812e-04\n",
      "Epoch 48/50\n",
      "403/403 [==============================] - 7s 17ms/step - loss: 7.2650e-04: 0s - loss: \n",
      "Epoch 49/50\n",
      "403/403 [==============================] - 7s 16ms/step - loss: 5.6243e-04\n",
      "Epoch 50/50\n",
      "403/403 [==============================] - 7s 16ms/step - loss: 6.2341e-04\n"
     ]
    },
    {
     "data": {
      "text/plain": [
       "<tensorflow.python.keras.callbacks.History at 0x1befb963b88>"
      ]
     },
     "execution_count": 34,
     "metadata": {},
     "output_type": "execute_result"
    }
   ],
   "source": [
    "# Train the model\n",
    "\n",
    "model.fit(X_train, y_train, epochs=50, shuffle=False, batch_size=1, verbose=1)"
   ]
  },
  {
   "cell_type": "code",
   "execution_count": 16,
   "metadata": {},
   "outputs": [],
   "source": [
    "## Model Performance"
   ]
  },
  {
   "cell_type": "code",
   "execution_count": 17,
   "metadata": {},
   "outputs": [
    {
     "name": "stdout",
     "output_type": "stream",
     "text": [
      "6/6 [==============================] - 1s 11ms/step - loss: 0.1383\n"
     ]
    },
    {
     "data": {
      "text/plain": [
       "0.13833121955394745"
      ]
     },
     "execution_count": 17,
     "metadata": {},
     "output_type": "execute_result"
    }
   ],
   "source": [
    "# Evaluate the model\n",
    "\n",
    "model.evaluate(X_test, y_test)"
   ]
  },
  {
   "cell_type": "code",
   "execution_count": 18,
   "metadata": {},
   "outputs": [],
   "source": [
    "# Predictions\n",
    "\n",
    "predicted = model.predict(X_test)"
   ]
  },
  {
   "cell_type": "code",
   "execution_count": 19,
   "metadata": {},
   "outputs": [],
   "source": [
    "# Recover the unscaled prices\n",
    "\n",
    "predicted_prices = scaler.inverse_transform(predicted)\n",
    "real_prices = scaler.inverse_transform(y_test.reshape(-1, 1))"
   ]
  },
  {
   "cell_type": "code",
   "execution_count": 20,
   "metadata": {},
   "outputs": [
    {
     "data": {
      "text/html": [
       "<div>\n",
       "<style scoped>\n",
       "    .dataframe tbody tr th:only-of-type {\n",
       "        vertical-align: middle;\n",
       "    }\n",
       "\n",
       "    .dataframe tbody tr th {\n",
       "        vertical-align: top;\n",
       "    }\n",
       "\n",
       "    .dataframe thead th {\n",
       "        text-align: right;\n",
       "    }\n",
       "</style>\n",
       "<table border=\"1\" class=\"dataframe\">\n",
       "  <thead>\n",
       "    <tr style=\"text-align: right;\">\n",
       "      <th></th>\n",
       "      <th>Real</th>\n",
       "      <th>Predicted</th>\n",
       "    </tr>\n",
       "    <tr>\n",
       "      <th>Date</th>\n",
       "      <th></th>\n",
       "      <th></th>\n",
       "    </tr>\n",
       "  </thead>\n",
       "  <tbody>\n",
       "    <tr>\n",
       "      <th>2020-09-21</th>\n",
       "      <td>213.020004</td>\n",
       "      <td>199.655426</td>\n",
       "    </tr>\n",
       "    <tr>\n",
       "      <th>2020-09-22</th>\n",
       "      <td>214.160004</td>\n",
       "      <td>199.655426</td>\n",
       "    </tr>\n",
       "    <tr>\n",
       "      <th>2020-09-23</th>\n",
       "      <td>209.610001</td>\n",
       "      <td>199.655426</td>\n",
       "    </tr>\n",
       "    <tr>\n",
       "      <th>2020-09-24</th>\n",
       "      <td>208.720001</td>\n",
       "      <td>199.655426</td>\n",
       "    </tr>\n",
       "    <tr>\n",
       "      <th>2020-09-25</th>\n",
       "      <td>210.449997</td>\n",
       "      <td>199.655426</td>\n",
       "    </tr>\n",
       "  </tbody>\n",
       "</table>\n",
       "</div>"
      ],
      "text/plain": [
       "                  Real   Predicted\n",
       "Date                              \n",
       "2020-09-21  213.020004  199.655426\n",
       "2020-09-22  214.160004  199.655426\n",
       "2020-09-23  209.610001  199.655426\n",
       "2020-09-24  208.720001  199.655426\n",
       "2020-09-25  210.449997  199.655426"
      ]
     },
     "execution_count": 20,
     "metadata": {},
     "output_type": "execute_result"
    }
   ],
   "source": [
    "# Create df of predicted and real prices\n",
    "\n",
    "stocks = pd.DataFrame({\n",
    "    \"Real\": real_prices.ravel(),\n",
    "    \"Predicted\": predicted_prices.ravel()\n",
    "}, index = df.index[-len(real_prices): ]) \n",
    "stocks.head()"
   ]
  },
  {
   "cell_type": "code",
   "execution_count": 21,
   "metadata": {},
   "outputs": [
    {
     "name": "stderr",
     "output_type": "stream",
     "text": [
      "\n",
      "Bad key \"text.kerning_factor\" on line 4 in\n",
      "C:\\Users\\prisc\\anaconda3\\envs\\pyvizenv\\lib\\site-packages\\matplotlib\\mpl-data\\stylelib\\_classic_test_patch.mplstyle.\n",
      "You probably need to get an updated matplotlibrc file from\n",
      "http://github.com/matplotlib/matplotlib/blob/master/matplotlibrc.template\n",
      "or from the matplotlib source distribution\n"
     ]
    },
    {
     "data": {
      "text/plain": [
       "<matplotlib.axes._subplots.AxesSubplot at 0x1bef9161948>"
      ]
     },
     "execution_count": 21,
     "metadata": {},
     "output_type": "execute_result"
    },
    {
     "data": {
      "image/png": "[encoded data removed]",
      "text/plain": [
       "<Figure size 432x288 with 1 Axes>"
      ]
     },
     "metadata": {
      "needs_background": "light"
     },
     "output_type": "display_data"
    }
   ],
   "source": [
    "# Real vs predicted line plot to check fit\n",
    "\n",
    "stocks.plot(title=\"Stock Predictions Using Historical Prices\")"
   ]
  },
  {
   "cell_type": "code",
   "execution_count": null,
   "metadata": {},
   "outputs": [],
   "source": []
  }
 ],
 "metadata": {
  "kernelspec": {
   "display_name": "Python [conda env:pyvizenv] *",
   "language": "python",
   "name": "conda-env-pyvizenv-py"
  },
  "language_info": {
   "codemirror_mode": {
    "name": "ipython",
    "version": 3
   },
   "file_extension": ".py",
   "mimetype": "text/x-python",
   "name": "python",
   "nbconvert_exporter": "python",
   "pygments_lexer": "ipython3",
   "version": "3.7.9"
  }
 },
 "nbformat": 4,
 "nbformat_minor": 4
}
